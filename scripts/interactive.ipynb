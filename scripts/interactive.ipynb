{
 "cells": [
  {
   "cell_type": "markdown",
   "id": "9c1c6202-2f50-4dd1-973e-c735ac963a28",
   "metadata": {},
   "source": [
    "# Interactive example"
   ]
  },
  {
   "cell_type": "code",
   "execution_count": null,
   "id": "c3cf1767-39a0-48a1-b168-b339022d9eac",
   "metadata": {},
   "outputs": [],
   "source": [
    "import sys\n",
    "import os\n",
    "os.chdir(\"..\") # We need to change the parent directory to this one. Still figuring out relative imports to not have to hack this thing.\n",
    "from utils.utils import BMS_instance"
   ]
  },
  {
   "cell_type": "code",
   "execution_count": null,
   "id": "eb54f98f-3c27-4567-93a4-b94a36d8c6b1",
   "metadata": {},
   "outputs": [],
   "source": [
    "os.getcwd() ## Calling this should direct you to the project file. If not, you ran this too many times."
   ]
  },
  {
   "cell_type": "markdown",
   "id": "a33ec6b0-f256-440f-bbfd-111d72d68fd1",
   "metadata": {},
   "source": [
    "## Create and run an experiment"
   ]
  },
  {
   "cell_type": "markdown",
   "id": "c4ecb390-09b9-4712-9164-2824329a66a1",
   "metadata": {},
   "source": [
    "Creating it from the correspoding data is easy. Just indicate the name of the folder containing the experiment data and the number of outputs that the excel file has. Also indicate which of the outputs you want to study, since the BMS is only able to consider one output at a time. Finally, the scaling can be set to `\"inputs\"`, `\"outputs\"`, or `\"both\"`, which will apply a z-score scaling to the chosen parameters. "
   ]
  },
  {
   "cell_type": "code",
   "execution_count": null,
   "id": "ce888ed0-ba97-4f56-991e-e9acef6b7f65",
   "metadata": {},
   "outputs": [],
   "source": [
    "Haber_Bosch_test = BMS_instance(experiment = \"Haber_Bosch\", noutputs = 1, chosen_output = 1, scaling = None)\n",
    "Haber_Bosch_test.run_BMS(mcmcsteps = 100, save_distance = 1e300)"
   ]
  },
  {
   "cell_type": "markdown",
   "id": "32868780-cff7-4699-9abf-d1dde44d5ba6",
   "metadata": {
    "tags": []
   },
   "source": [
    "## Load a `.pkl` file"
   ]
  },
  {
   "cell_type": "code",
   "execution_count": null,
   "id": "24abe7bf-0f62-4b68-b48f-0c3b4fd25d52",
   "metadata": {},
   "outputs": [],
   "source": [
    "path_file = r\"C:\\Users\\dvazquez\\Daniel\\Articulos\\Articulo_BMS_cineticas\\Code\\Local\\Results\\Haber_Bosch_Out1_ScaleNone_4500.pkl\"\n",
    "Haber_Bosch_load = BMS_instance.load(path_file)"
   ]
  },
  {
   "cell_type": "markdown",
   "id": "451628b5-405a-468c-8a81-ef494da6891e",
   "metadata": {},
   "source": [
    "## Read results from the run experiment"
   ]
  },
  {
   "cell_type": "markdown",
   "id": "196f2046-4e65-4a09-9d44-a2083d2195a1",
   "metadata": {},
   "source": [
    "The most important results are the equation and the fitting. For this, we can check both the description length plot and the training/test plot."
   ]
  },
  {
   "cell_type": "code",
   "execution_count": null,
   "id": "db2d136d-b658-490e-8749-a2cc9d72be01",
   "metadata": {},
   "outputs": [],
   "source": [
    "Haber_Bosch_test.plot_dlength()"
   ]
  },
  {
   "cell_type": "code",
   "execution_count": null,
   "id": "b18b8d6c-b0cc-4885-be1b-ed4924265382",
   "metadata": {},
   "outputs": [],
   "source": [
    "Haber_Bosch_load.plot_rsquare()"
   ]
  }
 ],
 "metadata": {
  "kernelspec": {
   "display_name": "Python 3 (ipykernel)",
   "language": "python",
   "name": "python3"
  },
  "language_info": {
   "codemirror_mode": {
    "name": "ipython",
    "version": 3
   },
   "file_extension": ".py",
   "mimetype": "text/x-python",
   "name": "python",
   "nbconvert_exporter": "python",
   "pygments_lexer": "ipython3",
   "version": "3.8.12"
  }
 },
 "nbformat": 4,
 "nbformat_minor": 5
}
